{
 "cells": [
  {
   "cell_type": "markdown",
   "id": "f32211b2-8476-49ef-b474-943b7279dd68",
   "metadata": {},
   "source": [
    "# Python die roll challenge\n"
   ]
  },
  {
   "cell_type": "code",
   "execution_count": 12,
   "id": "854215ad-76ec-4638-be34-00e54911e956",
   "metadata": {},
   "outputs": [
    {
     "name": "stdin",
     "output_type": "stream",
     "text": [
      "Do you want to roll the dice:   no\n"
     ]
    },
    {
     "name": "stdout",
     "output_type": "stream",
     "text": [
      "Goodbye!\n"
     ]
    }
   ],
   "source": [
    "\n",
    "import random\n",
    "\n",
    "a = input('Do you want to roll the dice:  ').strip().lower()\n",
    "if a== 'no':\n",
    "    print('Goodbye!')\n",
    "elif a=='yes':\n",
    "    b = random.randint(1,6)\n",
    "    c = random.randint(1,6)\n",
    "    print(f'You rolled a {b} and {c}')\n",
    "else:\n",
    "    print('Please enter yes or no')\n",
    "    "
   ]
  },
  {
   "cell_type": "code",
   "execution_count": null,
   "id": "7666d4d8-bcdf-4290-8f57-7e2bcd1e71e8",
   "metadata": {},
   "outputs": [],
   "source": []
  }
 ],
 "metadata": {
  "kernelspec": {
   "display_name": "Python [conda env:base] *",
   "language": "python",
   "name": "conda-base-py"
  },
  "language_info": {
   "codemirror_mode": {
    "name": "ipython",
    "version": 3
   },
   "file_extension": ".py",
   "mimetype": "text/x-python",
   "name": "python",
   "nbconvert_exporter": "python",
   "pygments_lexer": "ipython3",
   "version": "3.12.7"
  }
 },
 "nbformat": 4,
 "nbformat_minor": 5
}
